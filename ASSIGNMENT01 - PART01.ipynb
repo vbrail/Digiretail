{
 "cells": [
  {
   "cell_type": "code",
   "execution_count": 2,
   "metadata": {},
   "outputs": [],
   "source": [
    "# importing Bunch of libraries\n",
    "from elasticsearch import Elasticsearch\n",
    "import pandas as pd\n",
    "import certifi"
   ]
  },
  {
   "cell_type": "code",
   "execution_count": 8,
   "metadata": {},
   "outputs": [
    {
     "name": "stdout",
     "output_type": "stream",
     "text": [
      "Connected\n"
     ]
    }
   ],
   "source": [
    "# getting connection object for further operation\n",
    "try:\n",
    "    es = Elasticsearch(\n",
    "      ['http://101.53.136.181:9200'],# Host Name and port\n",
    "        # Security checks\n",
    "      use_ssl=True,\n",
    "      verify_certs=True,\n",
    "      ca_certs=certifi.where(),\n",
    "   )\n",
    "except Exception as excp:\n",
    "    print (\"Error:\", excp)\n",
    "else:\n",
    "    print(\"Connected\")"
   ]
  },
  {
   "cell_type": "code",
   "execution_count": 9,
   "metadata": {},
   "outputs": [
    {
     "data": {
      "text/plain": [
       "Index(['Product Name', 'Model Name', 'Product Serial No', 'Group Associated',\n",
       "       'product MRP (rs.)'],\n",
       "      dtype='object')"
      ]
     },
     "execution_count": 9,
     "metadata": {},
     "output_type": "execute_result"
    }
   ],
   "source": [
    "# Renamed the csv provided \n",
    "csv = pd.read_csv('pdtlist.csv')\n",
    "# geting columns name\n",
    "csv.columns"
   ]
  },
  {
   "cell_type": "code",
   "execution_count": 6,
   "metadata": {},
   "outputs": [],
   "source": [
    "# defining Mapping Changed the data type of serial no field\n",
    "# doc type is products\n",
    "schema = {\n",
    "    \"mappings\":{\n",
    "        \"products\":{\n",
    "             \"properties\":{\n",
    "                 \"Product Name\":{\"type\":\"text\"},\n",
    "                 \"Model Name\":{\"type\":\"text\"},\n",
    "                 \"Product Serial No\":{\"type\":\"text\"},\n",
    "                 \"Group Associated\":{\"type\":\"text\"},\n",
    "                 \"product MRP (rs.)\":{\"type\":\"float\"}\n",
    "                }            \n",
    "            }       \n",
    "        }\n",
    "    }"
   ]
  },
  {
   "cell_type": "code",
   "execution_count": 9,
   "metadata": {},
   "outputs": [
    {
     "data": {
      "text/plain": [
       "{'acknowledged': True, 'shards_acknowledged': True, 'index': 'digiretail'}"
      ]
     },
     "execution_count": 9,
     "metadata": {},
     "output_type": "execute_result"
    }
   ],
   "source": [
    "# Creating index with default settings\n",
    "es.indices.create(index =\"digiretail\", body = schema)"
   ]
  },
  {
   "cell_type": "code",
   "execution_count": 14,
   "metadata": {},
   "outputs": [],
   "source": [
    "# Preparing data for insertion\n",
    "cols = csv.columns\n",
    "nocols = len(cols)\n",
    "data=[]\n",
    "for i,r in csv.iterrows():\n",
    "    row=dict()\n",
    "    for j in range(nocols):\n",
    "        row[cols[j]]=r[j]\n",
    "    data.append({\"index\": {\"_type\":\"products\",\"_id\":i}})\n",
    "    data.append(row)\n",
    "    "
   ]
  },
  {
   "cell_type": "code",
   "execution_count": 7,
   "metadata": {},
   "outputs": [
    {
     "name": "stdout",
     "output_type": "stream",
     "text": [
      "Bulk insertion sucessful\n"
     ]
    }
   ],
   "source": [
    "# inserting data\n",
    "try:\n",
    "    es.bulk(index=\"digiretail\",body=data)\n",
    "except Exception as excp:\n",
    "    print(\"something went wrong \\n\",excp)\n",
    "else:\n",
    "    print(\"Bulk insertion sucessful\")"
   ]
  }
 ],
 "metadata": {
  "kernelspec": {
   "display_name": "Python 3",
   "language": "python",
   "name": "python3"
  },
  "language_info": {
   "codemirror_mode": {
    "name": "ipython",
    "version": 3
   },
   "file_extension": ".py",
   "mimetype": "text/x-python",
   "name": "python",
   "nbconvert_exporter": "python",
   "pygments_lexer": "ipython3",
   "version": "3.7.3"
  }
 },
 "nbformat": 4,
 "nbformat_minor": 2
}
