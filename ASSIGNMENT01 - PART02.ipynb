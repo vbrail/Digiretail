{
 "cells": [
  {
   "cell_type": "code",
   "execution_count": 1,
   "metadata": {},
   "outputs": [],
   "source": [
    "# getting libraries\n",
    "from mysql import connector\n",
    "import pandas as pd"
   ]
  },
  {
   "cell_type": "code",
   "execution_count": 22,
   "metadata": {},
   "outputs": [
    {
     "name": "stdout",
     "output_type": "stream",
     "text": [
      "Connected & cursor created\n"
     ]
    }
   ],
   "source": [
    "# Connecting and getting cursor\n",
    "host  = \"localhost\"\n",
    "uname = \"\" # wrint your user name\n",
    "password = \"\" #write your password\n",
    "try :\n",
    "    conn = connector.connect( host=host,user=uname,password=password)\n",
    "except Exception as excp:\n",
    "    print(\"Conncetion Failed\",excp)\n",
    "else :\n",
    "    cursor = conn.cursor()\n",
    "    print(\"Connected & cursor created\")"
   ]
  },
  {
   "cell_type": "code",
   "execution_count": 14,
   "metadata": {},
   "outputs": [
    {
     "name": "stdout",
     "output_type": "stream",
     "text": [
      "Sucessfully created database\n"
     ]
    }
   ],
   "source": [
    "# creating Databse\n",
    "DBname = \"Digiretail\"\n",
    "QUERY = \"create database \" + DBname\n",
    "try:\n",
    "    cursor.execute(QUERY)\n",
    "except Exception as excp:\n",
    "    print(\"Something Went Wrong : \\n\",excp)\n",
    "    conn.rollback()\n",
    "else:\n",
    "    print(\"Sucessfully created database\")"
   ]
  },
  {
   "cell_type": "code",
   "execution_count": 3,
   "metadata": {},
   "outputs": [
    {
     "name": "stdout",
     "output_type": "stream",
     "text": [
      "Database changed\n"
     ]
    }
   ],
   "source": [
    "# changing database\n",
    "QUERY = \"use digiretail\"\n",
    "try:\n",
    "    cursor.execute(QUERY)\n",
    "except Exception as excp:\n",
    "    print(\"Something Went Wrong : \\n\",excp)\n",
    "    conn.rollback()\n",
    "else:\n",
    "    print(\"Database changed\")"
   ]
  },
  {
   "cell_type": "code",
   "execution_count": 23,
   "metadata": {},
   "outputs": [
    {
     "data": {
      "text/plain": [
       "Index(['Product Name', 'Model Name', 'Product Serial No', 'Group Associated',\n",
       "       'product MRP (rs.)'],\n",
       "      dtype='object')"
      ]
     },
     "execution_count": 23,
     "metadata": {},
     "output_type": "execute_result"
    }
   ],
   "source": [
    "# Renamed the csv provided \n",
    "csv = pd.read_csv('pdtlist.csv')\n",
    "# geting columns name\n",
    "csv.columns"
   ]
  },
  {
   "cell_type": "code",
   "execution_count": 41,
   "metadata": {},
   "outputs": [
    {
     "name": "stdout",
     "output_type": "stream",
     "text": [
      "Sucessfully created table\n"
     ]
    }
   ],
   "source": [
    "# creating tables\n",
    "QUERY = \"create table Product ( `Product Name` VARCHAR(255),\\\n",
    "                                `Model Name` VARCHAR(255),\\\n",
    "                                `Product Serial No` VARCHAR(255), \\\n",
    "                                `Group Associated` VARCHAR(255),\\\n",
    "                                `product MRP (rs.)` float )\"\n",
    "try:\n",
    "    cursor.execute(QUERY)\n",
    "except Exception as excp:\n",
    "    print(\"Something Went Wrong : \\n\",excp)\n",
    "    conn.rollback()\n",
    "else:\n",
    "    print(\"Sucessfully created table\")"
   ]
  },
  {
   "cell_type": "code",
   "execution_count": 19,
   "metadata": {},
   "outputs": [
    {
     "name": "stdout",
     "output_type": "stream",
     "text": [
      "110  rows inserted sucessfully\n"
     ]
    }
   ],
   "source": [
    "#inserting data\n",
    "try:\n",
    "    # iteraing over rows\n",
    "    for i,r in csv.iterrows():\n",
    "        row   = r.values # row values\n",
    "        row[2]=str(row[2]) # changing the data type of serial no field\n",
    "        row   = str(tuple(row)) # formatting datatype\n",
    "        QUERY = \"insert into product values\" + row # preparing query\n",
    "        cursor.execute(QUERY) # inserting rows\n",
    "except Exception as excp :\n",
    "    print(\"Something Went Wrong : \\n\",excp)\n",
    "    conn.rollback() # rollbackto safe state if something goes wrong\n",
    "else:\n",
    "    conn.commit() # commiting the insert\n",
    "    print(i+1,\" rows inserted sucessfully\")"
   ]
  },
  {
   "cell_type": "code",
   "execution_count": 20,
   "metadata": {},
   "outputs": [],
   "source": [
    "conn.close() # closing connection"
   ]
  }
 ],
 "metadata": {
  "kernelspec": {
   "display_name": "Python 3",
   "language": "python",
   "name": "python3"
  },
  "language_info": {
   "codemirror_mode": {
    "name": "ipython",
    "version": 3
   },
   "file_extension": ".py",
   "mimetype": "text/x-python",
   "name": "python",
   "nbconvert_exporter": "python",
   "pygments_lexer": "ipython3",
   "version": "3.7.3"
  }
 },
 "nbformat": 4,
 "nbformat_minor": 2
}
